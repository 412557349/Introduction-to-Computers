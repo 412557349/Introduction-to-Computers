{
  "nbformat": 4,
  "nbformat_minor": 0,
  "metadata": {
    "colab": {
      "provenance": [],
      "authorship_tag": "ABX9TyMnp5FCbxs9RfviOlXwWBjE",
      "include_colab_link": true
    },
    "kernelspec": {
      "name": "python3",
      "display_name": "Python 3"
    },
    "language_info": {
      "name": "python"
    }
  },
  "cells": [
    {
      "cell_type": "markdown",
      "metadata": {
        "id": "view-in-github",
        "colab_type": "text"
      },
      "source": [
        "<a href=\"https://colab.research.google.com/github/412557349/Introduction-to-Computers/blob/main/0508.ipynb\" target=\"_parent\"><img src=\"https://colab.research.google.com/assets/colab-badge.svg\" alt=\"Open In Colab\"/></a>"
      ]
    },
    {
      "cell_type": "code",
      "execution_count": 1,
      "metadata": {
        "colab": {
          "base_uri": "https://localhost:8080/"
        },
        "id": "R7LxzAiK3S-X",
        "outputId": "ff6fece2-8ade-4b77-c5cd-9db7e971043a"
      },
      "outputs": [
        {
          "output_type": "stream",
          "name": "stdout",
          "text": [
            "請輸入您的體溫：38\n",
            "體溫過高!\n"
          ]
        }
      ],
      "source": [
        "temperature=float(input('請輸入您的體溫：'))\n",
        "if(temperature>=37.5):\n",
        "  print('體溫過高!')\n",
        "elif(37<=temperature<=37.4):\n",
        "  print('體溫略高!')\n",
        "elif(34<=temperature<=36.9):\n",
        "  print('體溫正常！')\n",
        "elif(temperature<34):\n",
        "  print('體溫異常，請重新測量！')\n",
        "else:\n",
        "  print('請輸入有效的體溫值！')"
      ]
    },
    {
      "cell_type": "code",
      "source": [
        "score=float(input('請輸入您的成績：'))\n",
        "if(score>=90):\n",
        "  print('您的成績為:A')\n",
        "elif(80<=score<90):\n",
        "  print('您的成績為:B')\n",
        "elif(70<=score<80):\n",
        "  print('您的成績為:C')\n",
        "elif(60<=score<70):\n",
        "  print('您的成績為:D')\n",
        "else:\n",
        "  print('您的成績為:E')"
      ],
      "metadata": {
        "colab": {
          "base_uri": "https://localhost:8080/"
        },
        "id": "wHArxi0M6OP9",
        "outputId": "83d0ea27-3193-4cbd-fed6-835810d3d590"
      },
      "execution_count": 2,
      "outputs": [
        {
          "output_type": "stream",
          "name": "stdout",
          "text": [
            "請輸入您的成績：85\n",
            "您的成績為:B\n"
          ]
        }
      ]
    },
    {
      "cell_type": "code",
      "source": [
        "month=int(input('請輸入月份:'))\n",
        "if(month in {3,4,5}):\n",
        "  print('您輸入的月份是春天!')\n",
        "elif(month in {6,7,8}):\n",
        "  print('您輸入的月份是夏天!')\n",
        "elif(month in {9,10,11}):\n",
        "  print('您輸入的月份是秋天!')\n",
        "elif(month in {12,1,2}):\n",
        "  print('您輸入的月份是冬天!')\n",
        "else:\n",
        "  print('輸入的月份不在範圍內!')"
      ],
      "metadata": {
        "colab": {
          "base_uri": "https://localhost:8080/"
        },
        "id": "-NtmZHSa7uSt",
        "outputId": "e7db1644-aede-45ee-e42e-f462b28efbc7"
      },
      "execution_count": 3,
      "outputs": [
        {
          "output_type": "stream",
          "name": "stdout",
          "text": [
            "請輸入月份:11\n",
            "您輸入的月份是秋天!\n"
          ]
        }
      ]
    },
    {
      "cell_type": "code",
      "source": [],
      "metadata": {
        "id": "Fx5N6kRP9Lfh"
      },
      "execution_count": null,
      "outputs": []
    }
  ]
}